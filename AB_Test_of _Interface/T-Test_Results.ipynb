{
 "cells": [
  {
   "attachments": {},
   "cell_type": "markdown",
   "metadata": {},
   "source": [
    "# A/B Test Analysis\n",
    "An Indepedent Samples T-test compares the differences between two means of two different samples."
   ]
  },
  {
   "cell_type": "code",
   "execution_count": 1,
   "metadata": {},
   "outputs": [],
   "source": [
    "import pandas as pd\n",
    "import numpy as np\n",
    "import scipy.stats as stats"
   ]
  },
  {
   "cell_type": "code",
   "execution_count": null,
   "metadata": {},
   "outputs": [
    {
     "name": "stdout",
     "output_type": "stream",
     "text": [
      "<class 'pandas.core.frame.DataFrame'>\n",
      "RangeIndex: 24 entries, 0 to 23\n",
      "Data columns (total 6 columns):\n",
      " #   Column                                                                  Non-Null Count  Dtype\n",
      "---  ------                                                                  --------------  -----\n",
      " 0   ID                                                                      24 non-null     int64\n",
      " 1   I understood what I could use the app for.                              24 non-null     int64\n",
      " 2   I found the application intuitive to use.                               24 non-null     int64\n",
      " 3   I thought the application was useful.                                   24 non-null     int64\n",
      " 4   I enjoyed using the application.                                        24 non-null     int64\n",
      " 5   The food classification feature provides accurate and helpful results.  24 non-null     int64\n",
      "dtypes: int64(6)\n",
      "memory usage: 1.2 KB\n",
      "<class 'pandas.core.frame.DataFrame'>\n",
      "RangeIndex: 12 entries, 0 to 11\n",
      "Data columns (total 6 columns):\n",
      " #   Column                                                                  Non-Null Count  Dtype\n",
      "---  ------                                                                  --------------  -----\n",
      " 0   ID                                                                      12 non-null     int64\n",
      " 1   I understood what I could use the app for.                              12 non-null     int64\n",
      " 2   I found the application intuitive to use.                               12 non-null     int64\n",
      " 3   I thought the application was useful.                                   12 non-null     int64\n",
      " 4   I enjoyed using the application.                                        12 non-null     int64\n",
      " 5   The food classification feature provides accurate and helpful results.  12 non-null     int64\n",
      "dtypes: int64(6)\n",
      "memory usage: 704.0 bytes\n"
     ]
    },
    {
     "data": {
      "text/html": [
       "<div>\n",
       "<style scoped>\n",
       "    .dataframe tbody tr th:only-of-type {\n",
       "        vertical-align: middle;\n",
       "    }\n",
       "\n",
       "    .dataframe tbody tr th {\n",
       "        vertical-align: top;\n",
       "    }\n",
       "\n",
       "    .dataframe thead th {\n",
       "        text-align: right;\n",
       "    }\n",
       "</style>\n",
       "<table border=\"1\" class=\"dataframe\">\n",
       "  <thead>\n",
       "    <tr style=\"text-align: right;\">\n",
       "      <th></th>\n",
       "      <th>ID</th>\n",
       "      <th>I understood what I could use the app for.</th>\n",
       "      <th>I found the application intuitive to use.</th>\n",
       "      <th>I thought the application was useful.</th>\n",
       "      <th>I enjoyed using the application.</th>\n",
       "      <th>The food classification feature provides accurate and helpful results.</th>\n",
       "    </tr>\n",
       "  </thead>\n",
       "  <tbody>\n",
       "    <tr>\n",
       "      <th>0</th>\n",
       "      <td>1</td>\n",
       "      <td>5</td>\n",
       "      <td>6</td>\n",
       "      <td>5</td>\n",
       "      <td>4</td>\n",
       "      <td>7</td>\n",
       "    </tr>\n",
       "    <tr>\n",
       "      <th>1</th>\n",
       "      <td>2</td>\n",
       "      <td>5</td>\n",
       "      <td>5</td>\n",
       "      <td>6</td>\n",
       "      <td>6</td>\n",
       "      <td>5</td>\n",
       "    </tr>\n",
       "    <tr>\n",
       "      <th>2</th>\n",
       "      <td>3</td>\n",
       "      <td>7</td>\n",
       "      <td>6</td>\n",
       "      <td>6</td>\n",
       "      <td>5</td>\n",
       "      <td>6</td>\n",
       "    </tr>\n",
       "    <tr>\n",
       "      <th>3</th>\n",
       "      <td>4</td>\n",
       "      <td>6</td>\n",
       "      <td>6</td>\n",
       "      <td>6</td>\n",
       "      <td>6</td>\n",
       "      <td>4</td>\n",
       "    </tr>\n",
       "    <tr>\n",
       "      <th>4</th>\n",
       "      <td>5</td>\n",
       "      <td>7</td>\n",
       "      <td>7</td>\n",
       "      <td>4</td>\n",
       "      <td>6</td>\n",
       "      <td>6</td>\n",
       "    </tr>\n",
       "  </tbody>\n",
       "</table>\n",
       "</div>"
      ],
      "text/plain": [
       "   ID  I understood what I could use the app for.  \\\n",
       "0   1                                           5   \n",
       "1   2                                           5   \n",
       "2   3                                           7   \n",
       "3   4                                           6   \n",
       "4   5                                           7   \n",
       "\n",
       "   I found the application intuitive to use.  \\\n",
       "0                                          6   \n",
       "1                                          5   \n",
       "2                                          6   \n",
       "3                                          6   \n",
       "4                                          7   \n",
       "\n",
       "   I thought the application was useful.  I enjoyed using the application.  \\\n",
       "0                                      5                                 4   \n",
       "1                                      6                                 6   \n",
       "2                                      6                                 5   \n",
       "3                                      6                                 6   \n",
       "4                                      4                                 6   \n",
       "\n",
       "   The food classification feature provides accurate and helpful results.  \n",
       "0                                                  7                       \n",
       "1                                                  5                       \n",
       "2                                                  6                       \n",
       "3                                                  4                       \n",
       "4                                                  6                       "
      ]
     },
     "execution_count": 47,
     "metadata": {},
     "output_type": "execute_result"
    }
   ],
   "source": [
    "df_A = pd.read_csv(\"VersionA_results.csv\")\n",
    "df_B = pd.read_csv(\"VersionB_results.csv\")\n",
    "\n",
    "# EDA A\n",
    "df_A.info()\n",
    "df_A.head() \n",
    "# EDA B\n",
    "df_B.info() \n",
    "df_B.head() "
   ]
  },
  {
   "cell_type": "markdown",
   "metadata": {},
   "source": [
    "### Test Assumptions"
   ]
  },
  {
   "cell_type": "code",
   "execution_count": null,
   "metadata": {},
   "outputs": [
    {
     "name": "stdout",
     "output_type": "stream",
     "text": [
      "These are the results for question I understood what I could use the app for.\n",
      "This is the p-value for normality for version A:  ShapiroResult(statistic=0.5767304134324783, pvalue=3.432264826375751e-07)\n",
      "This is the p-value for normality for version B:  ShapiroResult(statistic=0.7641023310258974, pvalue=0.0037660152871238648)\n",
      "A p-value above 0.05 means the data is normally distributed. If for either version A or B the data is not normally distributed, you will have to run the bootstrapped version for this question.\n",
      "This is the p-value for homogeneity:  LeveneResult(statistic=0.4504504504504505, pvalue=0.5066555323910953)\n",
      "If the p-value is above 0.05, then the groups have equal variances. If the variance aren't equal then you will have to run the bootstrapped version for this question.\n",
      "These are the results for question I found the application intuitive to use.\n",
      "This is the p-value for normality for version A:  ShapiroResult(statistic=0.7677304112397618, pvalue=9.144384645226014e-05)\n",
      "This is the p-value for normality for version B:  ShapiroResult(statistic=0.8841969916247958, pvalue=0.09921721925277148)\n",
      "A p-value above 0.05 means the data is normally distributed. If for either version A or B the data is not normally distributed, you will have to run the bootstrapped version for this question.\n",
      "This is the p-value for homogeneity:  LeveneResult(statistic=3.2771084337349383, pvalue=0.07909847905307321)\n",
      "If the p-value is above 0.05, then the groups have equal variances. If the variance aren't equal then you will have to run the bootstrapped version for this question.\n",
      "These are the results for question I thought the application was useful.\n",
      "This is the p-value for normality for version A:  ShapiroResult(statistic=0.7174376028849634, pvalue=1.7275387341904817e-05)\n",
      "This is the p-value for normality for version B:  ShapiroResult(statistic=0.8367726186659113, pvalue=0.025301248788673986)\n",
      "A p-value above 0.05 means the data is normally distributed. If for either version A or B the data is not normally distributed, you will have to run the bootstrapped version for this question.\n",
      "This is the p-value for homogeneity:  LeveneResult(statistic=0.05738396624472578, pvalue=0.8121177934091647)\n",
      "If the p-value is above 0.05, then the groups have equal variances. If the variance aren't equal then you will have to run the bootstrapped version for this question.\n",
      "These are the results for question I enjoyed using the application.\n",
      "This is the p-value for normality for version A:  ShapiroResult(statistic=0.7328463383382808, pvalue=2.8263976629830206e-05)\n",
      "This is the p-value for normality for version B:  ShapiroResult(statistic=0.8413113850189603, pvalue=0.028723865485222714)\n",
      "A p-value above 0.05 means the data is normally distributed. If for either version A or B the data is not normally distributed, you will have to run the bootstrapped version for this question.\n",
      "This is the p-value for homogeneity:  LeveneResult(statistic=4.4439288476411445, pvalue=0.04247349922197272)\n",
      "If the p-value is above 0.05, then the groups have equal variances. If the variance aren't equal then you will have to run the bootstrapped version for this question.\n",
      "These are the results for question The food classification feature provides accurate and helpful results.\n",
      "This is the p-value for normality for version A:  ShapiroResult(statistic=0.6677344645251018, pvalue=3.882284235834057e-06)\n",
      "This is the p-value for normality for version B:  ShapiroResult(statistic=0.8645826158160637, pvalue=0.05581602293279599)\n",
      "A p-value above 0.05 means the data is normally distributed. If for either version A or B the data is not normally distributed, you will have to run the bootstrapped version for this question.\n",
      "This is the p-value for homogeneity:  LeveneResult(statistic=0.06686332350049153, pvalue=0.7975187585192975)\n",
      "If the p-value is above 0.05, then the groups have equal variances. If the variance aren't equal then you will have to run the bootstrapped version for this question.\n"
     ]
    }
   ],
   "source": [
    "q1 = \"I understood what I could use the app for.\"\n",
    "q2 =\"I found the application intuitive to use.\"\n",
    "q3 = \"I thought the application was useful.\"\n",
    "q4 =  'I enjoyed using the application.'\n",
    "q5 = 'The food classification feature provides accurate and helpful results.'\n",
    "\n",
    "questions = [q1, q2, q3, q4, q5]\n",
    "for q in questions:\n",
    "    normal_a = stats.shapiro(df_A[q])\n",
    "    normal_b = stats.shapiro(df_B[q])\n",
    "\n",
    "    # Check whether the variance of both samples is equal\n",
    "    homogeneity = stats.levene(df_A[q],\n",
    "                            df_B[q])\n",
    "\n",
    "    print(\"These are the results for question \" + q)\n",
    "    print(f\"This is the p-value for normality for version A: \", normal_a)\n",
    "    print(f\"This is the p-value for normality for version B: \", normal_b)\n",
    "    print(\"A p-value above 0.05 means the data is normally distributed. If for either version A or B the data is not normally distributed, you will have to run the bootstrapped version for this question.\")\n",
    "    print(f\"This is the p-value for homogeneity: \", homogeneity)\n",
    "    print(\"If the p-value is above 0.05, then the groups have equal variances. If the variance aren't equal then you will have to run the bootstrapped version for this question.\")"
   ]
  },
  {
   "cell_type": "code",
   "execution_count": 49,
   "metadata": {},
   "outputs": [
    {
     "name": "stdout",
     "output_type": "stream",
     "text": [
      "The results are significant if the p-value is significant, which means smaller than 0.05 TtestResult(statistic=-0.5597892954492245, pvalue=0.5792928053425831, df=34.0)\n"
     ]
    }
   ],
   "source": [
    "# Run Independent Samples T-test when assumptions are not violated.\n",
    "results = stats.ttest_ind(df_A[q3],\n",
    "                          df_B[q3])\n",
    "\n",
    "# Print the results\n",
    "print(f\"The results are significant if the p-value is significant, which means smaller than 0.05\", \n",
    "results)"
   ]
  },
  {
   "cell_type": "code",
   "execution_count": 50,
   "metadata": {},
   "outputs": [
    {
     "name": "stdout",
     "output_type": "stream",
     "text": [
      "The results are significant if the p-value is significant, which means smaller than 0.05 TtestResult(statistic=-0.5597892954492245, pvalue=0.5792928053425831, df=34.0)\n"
     ]
    },
    {
     "name": "stderr",
     "output_type": "stream",
     "text": [
      "C:\\Users\\zosia\\AppData\\Local\\Temp\\ipykernel_16820\\4093066987.py:4: DeprecationWarning: Arguments {'random_state'} are deprecated, whether passed by position or keyword. They will be removed in SciPy 1.17.0. Use ``method`` to perform a permutation test.\n",
      "  results = stats.ttest_ind(df_A[q3],\n"
     ]
    }
   ],
   "source": [
    "# Run Bootstrapped Independent Samples T-test when assumptions are violated\n",
    "rng = np.random.default_rng() # create random sampling\n",
    "\n",
    "results = stats.ttest_ind(df_A[q3],\n",
    "                          df_B[q3],\n",
    "                          random_state = rng)\n",
    "\n",
    "# Print the results\n",
    "print(f\"The results are significant if the p-value is significant, which means smaller than 0.05\", \n",
    "results)"
   ]
  },
  {
   "cell_type": "markdown",
   "metadata": {},
   "source": [
    "If the results are significant, that means that the means between the two versions of this specific question are different enough to exclude chance for being the cause. So if the B version has a higher/lower average score and is statistically significant, then it works better/worse. If the results are not significant then the changes don't have a real measurable effect so maybe it's not better or maybe the questions don't really measure the effect. "
   ]
  },
  {
   "cell_type": "markdown",
   "metadata": {},
   "source": []
  }
 ],
 "metadata": {
  "kernelspec": {
   "display_name": "block_c",
   "language": "python",
   "name": "python3"
  },
  "language_info": {
   "codemirror_mode": {
    "name": "ipython",
    "version": 3
   },
   "file_extension": ".py",
   "mimetype": "text/x-python",
   "name": "python",
   "nbconvert_exporter": "python",
   "pygments_lexer": "ipython3",
   "version": "3.10.16"
  },
  "orig_nbformat": 4
 },
 "nbformat": 4,
 "nbformat_minor": 2
}
